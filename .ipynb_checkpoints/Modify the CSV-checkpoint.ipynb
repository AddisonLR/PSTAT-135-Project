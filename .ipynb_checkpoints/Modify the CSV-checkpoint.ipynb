{
 "cells": [
  {
   "cell_type": "markdown",
   "metadata": {},
   "source": [
    "## Set Up"
   ]
  },
  {
   "cell_type": "code",
   "execution_count": 2,
   "metadata": {},
   "outputs": [],
   "source": [
    "from pyspark import SparkContext\n",
    "from pyspark.sql import SQLContext\n",
    "from pyspark.sql import Row\n",
    "from pyspark.sql import SparkSession\n",
    "\n",
    "spark = SparkSession \\\n",
    "    .builder \\\n",
    "    .master(\"local\") \\\n",
    "    .appName(\"review_and_category_analytics\") \\\n",
    "    .config(\"spark.executor.memory\", '8g') \\\n",
    "    .config('spark.executor.cores', '4') \\\n",
    "    .config('spark.cores.max', '4') \\\n",
    "    .config(\"spark.driver.memory\",'8g') \\\n",
    "    .getOrCreate()\n",
    "\n",
    "sc = spark.sparkContext\n",
    "\n",
    "sqlCtx = SQLContext(sc)"
   ]
  },
  {
   "cell_type": "code",
   "execution_count": 3,
   "metadata": {},
   "outputs": [],
   "source": [
    "galaxy_df = sqlCtx.read.\\\n",
    "    format(\"csv\").\\\n",
    "    option(\"header\", \"true\").\\\n",
    "    option(\"inferSchema\", \"true\").\\\n",
    "    load(\"data/training_solutions_rev1.csv\")"
   ]
  },
  {
   "cell_type": "markdown",
   "metadata": {},
   "source": [
    "## Summarize the Data"
   ]
  },
  {
   "cell_type": "code",
   "execution_count": 4,
   "metadata": {},
   "outputs": [
    {
     "name": "stdout",
     "output_type": "stream",
     "text": [
      "root\n",
      " |-- GalaxyID: integer (nullable = true)\n",
      " |-- Class1.1: double (nullable = true)\n",
      " |-- Class1.2: double (nullable = true)\n",
      " |-- Class1.3: double (nullable = true)\n",
      " |-- Class2.1: double (nullable = true)\n",
      " |-- Class2.2: double (nullable = true)\n",
      " |-- Class3.1: double (nullable = true)\n",
      " |-- Class3.2: double (nullable = true)\n",
      " |-- Class4.1: double (nullable = true)\n",
      " |-- Class4.2: double (nullable = true)\n",
      " |-- Class5.1: double (nullable = true)\n",
      " |-- Class5.2: double (nullable = true)\n",
      " |-- Class5.3: double (nullable = true)\n",
      " |-- Class5.4: double (nullable = true)\n",
      " |-- Class6.1: double (nullable = true)\n",
      " |-- Class6.2: double (nullable = true)\n",
      " |-- Class7.1: double (nullable = true)\n",
      " |-- Class7.2: double (nullable = true)\n",
      " |-- Class7.3: double (nullable = true)\n",
      " |-- Class8.1: double (nullable = true)\n",
      " |-- Class8.2: double (nullable = true)\n",
      " |-- Class8.3: double (nullable = true)\n",
      " |-- Class8.4: double (nullable = true)\n",
      " |-- Class8.5: double (nullable = true)\n",
      " |-- Class8.6: double (nullable = true)\n",
      " |-- Class8.7: double (nullable = true)\n",
      " |-- Class9.1: double (nullable = true)\n",
      " |-- Class9.2: double (nullable = true)\n",
      " |-- Class9.3: double (nullable = true)\n",
      " |-- Class10.1: double (nullable = true)\n",
      " |-- Class10.2: double (nullable = true)\n",
      " |-- Class10.3: double (nullable = true)\n",
      " |-- Class11.1: double (nullable = true)\n",
      " |-- Class11.2: double (nullable = true)\n",
      " |-- Class11.3: double (nullable = true)\n",
      " |-- Class11.4: double (nullable = true)\n",
      " |-- Class11.5: double (nullable = true)\n",
      " |-- Class11.6: double (nullable = true)\n",
      "\n"
     ]
    }
   ],
   "source": [
    "galaxy_df.printSchema()"
   ]
  },
  {
   "cell_type": "code",
   "execution_count": 5,
   "metadata": {},
   "outputs": [
    {
     "name": "stdout",
     "output_type": "stream",
     "text": [
      "+--------+--------+--------+--------+-----------+-----------+-----------+-----------+-----------+-----------+--------+-----------+-----------+-----------+--------+--------+-----------+-----------+-----------+--------+---------+-----------+---------+-----------+---------+--------+-----------+--------+-----------+-----------+-----------+-----------+-----------+-----------+---------+---------+---------+-----------+\n",
      "|GalaxyID|Class1.1|Class1.2|Class1.3|   Class2.1|   Class2.2|   Class3.1|   Class3.2|   Class4.1|   Class4.2|Class5.1|   Class5.2|   Class5.3|   Class5.4|Class6.1|Class6.2|   Class7.1|   Class7.2|   Class7.3|Class8.1| Class8.2|   Class8.3| Class8.4|   Class8.5| Class8.6|Class8.7|   Class9.1|Class9.2|   Class9.3|  Class10.1|  Class10.2|  Class10.3|  Class11.1|  Class11.2|Class11.3|Class11.4|Class11.5|  Class11.6|\n",
      "+--------+--------+--------+--------+-----------+-----------+-----------+-----------+-----------+-----------+--------+-----------+-----------+-----------+--------+--------+-----------+-----------+-----------+--------+---------+-----------+---------+-----------+---------+--------+-----------+--------+-----------+-----------+-----------+-----------+-----------+-----------+---------+---------+---------+-----------+\n",
      "|  100008|0.383147|0.616853|     0.0|        0.0|   0.616853|0.038452149|0.578400851|0.418397819|0.198455181|     0.0|0.104752126|0.512100874|        0.0|0.054453|0.945547|0.201462524|0.181684476|        0.0|     0.0|0.0272265|        0.0|0.0272265|        0.0|      0.0|     0.0|        0.0|     0.0|        0.0|0.279952491|0.138445328|        0.0|        0.0|0.092885571|      0.0|      0.0|      0.0|0.325512248|\n",
      "|  100023|0.327001|0.663777|0.009222|0.031178269|0.632598731|0.467369636|0.165229095|0.591327989|0.041270741|     0.0|0.236781072|0.160940708| 0.23487695|0.189149|0.810851|        0.0|0.135081824|0.191919176|     0.0|      0.0|0.140353476|      0.0|0.048795524|      0.0|     0.0|0.012414127|     0.0|0.018764143|        0.0|0.131377705|0.459950285|        0.0|0.591327989|      0.0|      0.0|      0.0|        0.0|\n",
      "|  100053|0.765717|0.177352|0.056931|        0.0|   0.177352|        0.0|   0.177352|        0.0|   0.177352|     0.0| 0.11778975| 0.05956225|        0.0|     0.0|     1.0|        0.0| 0.74186415| 0.02385285|     0.0|      0.0|        0.0|      0.0|        0.0|      0.0|     0.0|        0.0|     0.0|        0.0|        0.0|        0.0|        0.0|        0.0|        0.0|      0.0|      0.0|      0.0|        0.0|\n",
      "|  100078|0.693377|0.238564|0.068059|        0.0|   0.238564|0.109493481|0.129070519|0.189098232|0.049465768|     0.0|        0.0|0.113284024|0.125279976|0.320398|0.679602|0.408599439|0.284777561|        0.0|     0.0|      0.0|  0.0961194|0.0961194|        0.0|0.1281592|     0.0|        0.0|     0.0|        0.0|0.094549116|        0.0|0.094549116|0.189098232|        0.0|      0.0|      0.0|      0.0|        0.0|\n",
      "|  100090|0.933839|     0.0|0.066161|        0.0|        0.0|        0.0|        0.0|        0.0|        0.0|     0.0|        0.0|        0.0|        0.0|0.029383|0.970617|0.494587282|0.439251718|        0.0|     0.0|      0.0|        0.0|      0.0|        0.0| 0.029383|     0.0|        0.0|     0.0|        0.0|        0.0|        0.0|        0.0|        0.0|        0.0|      0.0|      0.0|      0.0|        0.0|\n",
      "+--------+--------+--------+--------+-----------+-----------+-----------+-----------+-----------+-----------+--------+-----------+-----------+-----------+--------+--------+-----------+-----------+-----------+--------+---------+-----------+---------+-----------+---------+--------+-----------+--------+-----------+-----------+-----------+-----------+-----------+-----------+---------+---------+---------+-----------+\n",
      "only showing top 5 rows\n",
      "\n"
     ]
    }
   ],
   "source": [
    "galaxy_df.show(5)"
   ]
  },
  {
   "cell_type": "code",
   "execution_count": 54,
   "metadata": {},
   "outputs": [
    {
     "name": "stdout",
     "output_type": "stream",
     "text": [
      "There are 61578 objects.\n",
      "There are 44 non-galaxies.\n",
      "There are 25868 smooth galaxies.\n",
      "There are 34114 edge-on galaxies.\n",
      "There are 1555 unclassified objects.\n",
      "There are 10397 spiral galaxies.\n",
      "There are 4587 other galaxies.\n",
      "-13432\n"
     ]
    }
   ],
   "source": [
    "galaxy_df.createOrReplaceTempView(\"df\") #allow us to use SQL statements\n",
    "\n",
    "#How many objects are there\n",
    "numTotal = galaxy_df.count()\n",
    "print(\"There are\", numTotal, \"objects.\")\n",
    "\n",
    "#How many are not galaxies\n",
    "numNot = sqlCtx.sql(\"SELECT * FROM df WHERE `Class1.3` >= 0.5\").count()\n",
    "print(\"There are\", numNot, \"non-galaxies.\")\n",
    "\n",
    "#How many smooth galaxies\n",
    "numSmooth = sqlCtx.sql(\"SELECT * FROM df WHERE `Class1.1` >= 0.5\").count()\n",
    "print(\"There are\", numSmooth, \"smooth galaxies.\")\n",
    "\n",
    "#How many edge-on glaxies\n",
    "numEdge = sqlCtx.sql(\"SELECT * FROM df WHERE `Class1.2` >= 0.5 \\\n",
    "                                            AND `Class2.1` >= 0.5\").count()\n",
    "print(\"There are\", numEdge, \"edge-on galaxies.\")\n",
    "\n",
    "#How many are not classified\n",
    "numUncertain = sqlCtx.sql(\"SELECT * FROM df WHERE `Class1.1` < 0.5 AND \\\n",
    "                          `Class1.2` < 0.5 AND `Class1.3` < 0.5\").count()\n",
    "print(\"There are\", numUncertain, \"unclassified objects.\")\n",
    "\n",
    "#How many spiral glaxies\n",
    "numSpiral = sqlCtx.sql(\"SELECT * FROM df WHERE `Class1.2` >= 0.5 AND `Class2.1` < 0.5 AND `Class4.1` >= 0.5\").count()\n",
    "print(\"There are\", numSpiral, \"spiral galaxies.\")\n",
    "\n",
    "#How many other\n",
    "numOdd = sqlCtx.sql(\"SELECT * FROM df WHERE `Class1.1` < 0.5 AND `Class2.1` < 0.5 AND `Class4.1` < 0.5 AND `Class6.1` >= 0.5\").count()\n",
    "print(\"There are\", numOdd, \"other galaxies.\")\n",
    "\n",
    "print(numTotal-numNot-numSmooth-numEdge-numSpiral-numOdd)\n",
    "\n",
    "NotnumOdd = sqlCtx.sql(\"SELECT * FROM df WHERE `Class1.1` < 0.5 AND `Class2.1` < 0.5 AND `Class4.1` < 0.5 AND `Class6.1` < 0.5\")"
   ]
  },
  {
   "cell_type": "code",
   "execution_count": 42,
   "metadata": {},
   "outputs": [
    {
     "name": "stdout",
     "output_type": "stream",
     "text": [
      "+--------+--------+--------+--------+--------+--------+-----------+-----------+-----------+-----------+-----------+-----------+-----------+-----------+--------+--------+-----------+-----------+-----------+----------+---------+-----------+-----------+-----------+--------+--------+--------+--------+--------+-----------+-----------+---------+-----------+-----------+---------+---------+-----------+-----------+\n",
      "|GalaxyID|Class1.1|Class1.2|Class1.3|Class2.1|Class2.2|   Class3.1|   Class3.2|   Class4.1|   Class4.2|   Class5.1|   Class5.2|   Class5.3|   Class5.4|Class6.1|Class6.2|   Class7.1|   Class7.2|   Class7.3|  Class8.1| Class8.2|   Class8.3|   Class8.4|   Class8.5|Class8.6|Class8.7|Class9.1|Class9.2|Class9.3|  Class10.1|  Class10.2|Class10.3|  Class11.1|  Class11.2|Class11.3|Class11.4|  Class11.5|  Class11.6|\n",
      "+--------+--------+--------+--------+--------+--------+-----------+-----------+-----------+-----------+-----------+-----------+-----------+-----------+--------+--------+-----------+-----------+-----------+----------+---------+-----------+-----------+-----------+--------+--------+--------+--------+--------+-----------+-----------+---------+-----------+-----------+---------+---------+-----------+-----------+\n",
      "|  100008|0.383147|0.616853|     0.0|     0.0|0.616853|0.038452149|0.578400851|0.418397819|0.198455181|        0.0|0.104752126|0.512100874|        0.0|0.054453|0.945547|0.201462524|0.181684476|        0.0|       0.0|0.0272265|        0.0|  0.0272265|        0.0|     0.0|     0.0|     0.0|     0.0|     0.0|0.279952491|0.138445328|      0.0|        0.0|0.092885571|      0.0|      0.0|        0.0|0.325512248|\n",
      "|  100150|0.429378|0.524901|0.045721|     0.0|0.524901|        0.0|   0.524901|        0.0|   0.524901|        0.0|0.139390085|0.226527325| 0.15898359|0.037499|0.962501|0.091016543|0.338361457|        0.0|       0.0|      0.0|   0.037499|        0.0|        0.0|     0.0|     0.0|     0.0|     0.0|     0.0|        0.0|        0.0|      0.0|        0.0|        0.0|      0.0|      0.0|        0.0|        0.0|\n",
      "|  100157|0.330462|0.669145| 3.93E-4|     0.0|0.669145|0.060014946|0.609130054|0.323994656|0.345150344|0.032978142|0.465372281|0.097891899|0.072903348|0.129321|0.870679|0.256827796|0.073634204|        0.0|       0.0|      0.0| 0.02157501|0.086170979| 0.02157501|     0.0|     0.0|     0.0|     0.0|     0.0|0.183397823|0.140596833|      0.0|0.042326338|0.052371144|      0.0|      0.0|        0.0|0.229297174|\n",
      "|  100187|0.448521|0.551479|     0.0|     0.0|0.551479|0.395389487|0.156089513|0.249897746|0.301581254|        0.0|0.232148945|0.319330055|        0.0|0.252285|0.747715| 0.39001906|0.039151398|0.019350542|0.19627773|      0.0|        0.0|0.028003635|0.028003635|     0.0|     0.0|     0.0|     0.0|     0.0|0.193314898|0.056582847|      0.0|        0.0|        0.0|      0.0|      0.0|0.031237218|0.218660527|\n",
      "|  100204|0.467625| 0.53148| 8.95E-4|     0.0| 0.53148|        0.0|    0.53148|0.036043379|0.495436621|0.118452542|0.413027458|        0.0|        0.0|0.084531|0.915469|        0.0| 0.25405926| 0.21356574|       0.0|      0.0|0.037531764|        0.0|0.046999236|     0.0|     0.0|     0.0|     0.0|     0.0|        0.0|0.036043379|      0.0|        0.0|0.036043379|      0.0|      0.0|        0.0|        0.0|\n",
      "+--------+--------+--------+--------+--------+--------+-----------+-----------+-----------+-----------+-----------+-----------+-----------+-----------+--------+--------+-----------+-----------+-----------+----------+---------+-----------+-----------+-----------+--------+--------+--------+--------+--------+-----------+-----------+---------+-----------+-----------+---------+---------+-----------+-----------+\n",
      "only showing top 5 rows\n",
      "\n"
     ]
    }
   ],
   "source": [
    "NotnumOdd.show(5)"
   ]
  }
 ],
 "metadata": {
  "kernelspec": {
   "display_name": "Python 3",
   "language": "python",
   "name": "python3"
  },
  "language_info": {
   "codemirror_mode": {
    "name": "ipython",
    "version": 3
   },
   "file_extension": ".py",
   "mimetype": "text/x-python",
   "name": "python",
   "nbconvert_exporter": "python",
   "pygments_lexer": "ipython3",
   "version": "3.6.3"
  }
 },
 "nbformat": 4,
 "nbformat_minor": 2
}
