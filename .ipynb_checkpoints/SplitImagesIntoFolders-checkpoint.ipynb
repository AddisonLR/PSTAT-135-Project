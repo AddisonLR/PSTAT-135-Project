{
 "cells": [
  {
   "cell_type": "markdown",
   "metadata": {},
   "source": [
    "# Split All Images into Classified Folders"
   ]
  },
  {
   "cell_type": "markdown",
   "metadata": {},
   "source": [
    "## Set Up"
   ]
  },
  {
   "cell_type": "code",
   "execution_count": 1,
   "metadata": {},
   "outputs": [
    {
     "name": "stderr",
     "output_type": "stream",
     "text": [
      "Using TensorFlow backend.\n"
     ]
    }
   ],
   "source": [
    "#import all necessary libraries\n",
    "import os\n",
    "\n",
    "from pyspark.sql.functions import lit\n",
    "from pyspark.sql import SQLContext\n",
    "from pyspark.sql import SparkSession\n",
    "from pyspark.sql import functions as F\n",
    "\n",
    "import IPython.display as dp\n",
    "from pyspark.ml.image import ImageSchema\n",
    "from sparkdl.image import imageIO\n",
    "\n",
    "spark = SparkSession \\\n",
    "    .builder \\\n",
    "    .master(\"local\") \\\n",
    "    .appName(\"review_and_category_analytics\") \\\n",
    "    .config(\"spark.executor.memory\", '8g') \\\n",
    "    .config('spark.executor.cores', '4') \\\n",
    "    .config('spark.cores.max', '4') \\\n",
    "    .config(\"spark.driver.memory\",'8g') \\\n",
    "    .getOrCreate()\n",
    "\n",
    "sc = spark.sparkContext\n",
    "\n",
    "sqlCtx = SQLContext(sc)"
   ]
  },
  {
   "cell_type": "code",
   "execution_count": 2,
   "metadata": {},
   "outputs": [
    {
     "name": "stdout",
     "output_type": "stream",
     "text": [
      "+--------+------+----+------+\n",
      "|GalaxyID|Smooth|Edge|Spiral|\n",
      "+--------+------+----+------+\n",
      "|  100008|     0|   0|     1|\n",
      "|  100023|     0|   0|     1|\n",
      "|  100053|     1|   0|     0|\n",
      "|  100078|     1|   0|     0|\n",
      "|  100090|     1|   0|     0|\n",
      "|  100122|     1|   0|     0|\n",
      "|  100123|     0|   0|     0|\n",
      "|  100128|     1|   0|     0|\n",
      "|  100134|     0|   0|     1|\n",
      "|  100143|     0|   1|     0|\n",
      "+--------+------+----+------+\n",
      "only showing top 10 rows\n",
      "\n"
     ]
    }
   ],
   "source": [
    "#Load classification table\n",
    "class_df = sqlCtx.read.\\\n",
    "    format(\"csv\").\\\n",
    "    option(\"header\", \"true\").\\\n",
    "    option(\"inferSchema\", \"true\").\\\n",
    "    load(\"data/galaxyClasses.csv\")\n",
    "\n",
    "class_df.show(10)"
   ]
  },
  {
   "cell_type": "markdown",
   "metadata": {},
   "source": [
    "### Create List of GalaxyID for Each Type of Galaxy"
   ]
  },
  {
   "cell_type": "code",
   "execution_count": 3,
   "metadata": {},
   "outputs": [],
   "source": [
    "#Find ID's of each kind of galaxy type\n",
    "smoothID = class_df.where(F.col(\"smooth\") == 1).select('galaxyID').rdd.map(lambda x: x[0]).collect()\n",
    "edgeID = class_df.where(F.col(\"edge\") == 1).select('galaxyID').rdd.map(lambda x: x[0]).collect()\n",
    "spiralID = class_df.where(F.col(\"spiral\") == 1).select('galaxyID').rdd.map(lambda x: x[0]).collect()\n",
    "otherID = class_df.where((F.col(\"edge\") == 0) & (F.col(\"smooth\") == 0) & (F.col(\"spiral\") == 0)).select('galaxyID').rdd.map(lambda x: x[0]).collect()"
   ]
  },
  {
   "cell_type": "code",
   "execution_count": 4,
   "metadata": {},
   "outputs": [
    {
     "data": {
      "text/plain": [
       "0"
      ]
     },
     "execution_count": 4,
     "metadata": {},
     "output_type": "execute_result"
    }
   ],
   "source": [
    "#Verify that there are no leftover images (should return 0)\n",
    "len(smoothID) + len(edgeID) + len(spiralID) + len(otherID) - class_df.count()"
   ]
  },
  {
   "cell_type": "markdown",
   "metadata": {},
   "source": [
    "### Move Photos to Appropriate Folder"
   ]
  },
  {
   "cell_type": "markdown",
   "metadata": {},
   "source": [
    "#### Smooth Galaxies"
   ]
  },
  {
   "cell_type": "code",
   "execution_count": null,
   "metadata": {},
   "outputs": [],
   "source": [
    "#Create file directories of all smooth galaxies\n",
    "\n",
    "smooth_dir = [] #blank list of file directories for all smooth galaxies\n",
    "\n",
    "#loop through smooth ID's and generate corresponding file directory\n",
    "for smooth in smoothID:\n",
    "    smooth_dir.append(\"data/images_training_rev1/\" + str(smooth) + \".jpg\")"
   ]
  },
  {
   "cell_type": "code",
   "execution_count": null,
   "metadata": {},
   "outputs": [],
   "source": [
    "#Move all smooth galaxies to appropriate folder\n",
    "for img in smooth_dir:\n",
    "    !mv {img} data/galaxy_images_classified/smooth/"
   ]
  },
  {
   "cell_type": "markdown",
   "metadata": {},
   "source": [
    "#### Edge Galaxies"
   ]
  },
  {
   "cell_type": "code",
   "execution_count": 5,
   "metadata": {},
   "outputs": [],
   "source": [
    "#Create file directories of all edge galaxies\n",
    "\n",
    "edge_dir = [] #blank list of file directories for all edge galaxies\n",
    "\n",
    "#loop through edge ID's and generate corresponding file directory\n",
    "for edge in edgeID:\n",
    "    edge_dir.append(\"data/images_training_rev1/\" + str(edge) + \".jpg\")"
   ]
  },
  {
   "cell_type": "code",
   "execution_count": 7,
   "metadata": {},
   "outputs": [
    {
     "name": "stdout",
     "output_type": "stream",
     "text": [
      "0.0 % completed...\n"
     ]
    }
   ],
   "source": [
    "#Move all edge galaxies to appropriate folder\n",
    "for img in range(len(edge_dir) - 1):\n",
    "    if img/len(edge_dir) % 0.05 == 0:\n",
    "        print(img/len(edge_dir), \"% completed...\")\n",
    "    !mv {edge_dir[img]} data/galaxy_images_classified/edge/"
   ]
  },
  {
   "cell_type": "markdown",
   "metadata": {},
   "source": [
    "#### Spiral"
   ]
  },
  {
   "cell_type": "code",
   "execution_count": 8,
   "metadata": {},
   "outputs": [],
   "source": [
    "#Create file directories of all spiral galaxies\n",
    "\n",
    "spiral_dir = [] #blank list of file directories for all spiral galaxies\n",
    "\n",
    "#loop through spiral ID's and generate corresponding file directory\n",
    "for spiral in spiralID:\n",
    "    spiral_dir.append(\"data/images_training_rev1/\" + str(spiral) + \".jpg\")"
   ]
  },
  {
   "cell_type": "code",
   "execution_count": 13,
   "metadata": {},
   "outputs": [
    {
     "name": "stdout",
     "output_type": "stream",
     "text": [
      "0.0 % completed...\n",
      "0.05 % completed...\n",
      "0.1 % completed...\n",
      "0.2 % completed...\n",
      "0.4 % completed...\n",
      "0.8 % completed...\n"
     ]
    }
   ],
   "source": [
    "#Move all spiral galaxies to appropriate folder\n",
    "for img in range(len(spiral_dir) - 1):\n",
    "    if img/15000 % 0.05 == 0:\n",
    "        print(img/15000, \"% completed...\")\n",
    "    !mv {spiral_dir[img]} data/galaxy_images_classified/spiral/"
   ]
  }
 ],
 "metadata": {
  "kernelspec": {
   "display_name": "Python 3",
   "language": "python",
   "name": "python3"
  },
  "language_info": {
   "codemirror_mode": {
    "name": "ipython",
    "version": 3
   },
   "file_extension": ".py",
   "mimetype": "text/x-python",
   "name": "python",
   "nbconvert_exporter": "python",
   "pygments_lexer": "ipython3",
   "version": "3.6.8"
  }
 },
 "nbformat": 4,
 "nbformat_minor": 2
}
