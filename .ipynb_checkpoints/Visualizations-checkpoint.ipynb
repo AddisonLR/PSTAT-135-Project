{
 "cells": [
  {
   "cell_type": "code",
   "execution_count": 12,
   "metadata": {},
   "outputs": [],
   "source": [
    "#import all necessary libraries\n",
    "import os\n",
    "\n",
    "from pyspark.sql.functions import lit\n",
    "from pyspark.sql import SQLContext\n",
    "from pyspark.sql import SparkSession\n",
    "from pyspark.sql import functions as F\n",
    "\n",
    "import matplotlib.pyplot as plt\n",
    "\n",
    "spark = SparkSession \\\n",
    "    .builder \\\n",
    "    .master(\"local\") \\\n",
    "    .appName(\"review_and_category_analytics\") \\\n",
    "    .config(\"spark.executor.memory\", '8g') \\\n",
    "    .config('spark.executor.cores', '4') \\\n",
    "    .config('spark.cores.max', '4') \\\n",
    "    .config(\"spark.driver.memory\",'8g') \\\n",
    "    .getOrCreate()\n",
    "\n",
    "sc = spark.sparkContext\n",
    "\n",
    "sqlCtx = SQLContext(sc)"
   ]
  },
  {
   "cell_type": "markdown",
   "metadata": {},
   "source": [
    "## Create Pie Chart"
   ]
  },
  {
   "cell_type": "code",
   "execution_count": 2,
   "metadata": {},
   "outputs": [
    {
     "name": "stdout",
     "output_type": "stream",
     "text": [
      "+--------+------+----+------+\n",
      "|GalaxyID|Smooth|Edge|Spiral|\n",
      "+--------+------+----+------+\n",
      "|  100008|     0|   0|     1|\n",
      "|  100023|     0|   0|     1|\n",
      "|  100053|     1|   0|     0|\n",
      "|  100078|     1|   0|     0|\n",
      "|  100090|     1|   0|     0|\n",
      "|  100122|     1|   0|     0|\n",
      "|  100123|     0|   0|     0|\n",
      "|  100128|     1|   0|     0|\n",
      "|  100134|     0|   0|     1|\n",
      "|  100143|     0|   1|     0|\n",
      "+--------+------+----+------+\n",
      "only showing top 10 rows\n",
      "\n"
     ]
    }
   ],
   "source": [
    "#Load classification table\n",
    "class_df = sqlCtx.read.\\\n",
    "    format(\"csv\").\\\n",
    "    option(\"header\", \"true\").\\\n",
    "    option(\"inferSchema\", \"true\").\\\n",
    "    load(\"data/galaxyClasses.csv\")\n",
    "\n",
    "class_df.show(10)"
   ]
  },
  {
   "cell_type": "code",
   "execution_count": 24,
   "metadata": {},
   "outputs": [],
   "source": [
    "#make data for pie chart\n",
    "\n",
    "labels = [\"Smooth\", \"Edge\", \"Spiral\", \"Other\"]\n",
    "count = []\n",
    "\n",
    "count.append(\n",
    "    class_df.where(F.col(\"Smooth\") == 1).count()\n",
    ")\n",
    "\n",
    "count.append(\n",
    "    class_df.where(F.col(\"Edge\") == 1).count()\n",
    ")\n",
    "\n",
    "count.append(\n",
    "    class_df.where(F.col(\"Spiral\") == 1).count()\n",
    ")\n",
    "\n",
    "count.append(\n",
    "    class_df.count()-count[0]-count[1]-count[2]\n",
    ")"
   ]
  },
  {
   "cell_type": "code",
   "execution_count": 25,
   "metadata": {},
   "outputs": [
    {
     "data": {
      "text/plain": [
       "[25866, 6626, 15074, 14010]"
      ]
     },
     "execution_count": 25,
     "metadata": {},
     "output_type": "execute_result"
    }
   ],
   "source": [
    "count"
   ]
  },
  {
   "cell_type": "code",
   "execution_count": 94,
   "metadata": {},
   "outputs": [
    {
     "ename": "AttributeError",
     "evalue": "module 'matplotlib.pyplot' has no attribute 'set_title'",
     "output_type": "error",
     "traceback": [
      "\u001b[0;31m---------------------------------------------------------------------------\u001b[0m",
      "\u001b[0;31mAttributeError\u001b[0m                            Traceback (most recent call last)",
      "\u001b[0;32m<ipython-input-94-a64d2f5e3e19>\u001b[0m in \u001b[0;36m<module>\u001b[0;34m\u001b[0m\n\u001b[1;32m     13\u001b[0m \u001b[0;34m\u001b[0m\u001b[0m\n\u001b[1;32m     14\u001b[0m \u001b[0mplt\u001b[0m\u001b[0;34m.\u001b[0m\u001b[0maxis\u001b[0m\u001b[0;34m(\u001b[0m\u001b[0;34m'equal'\u001b[0m\u001b[0;34m)\u001b[0m\u001b[0;34m\u001b[0m\u001b[0;34m\u001b[0m\u001b[0m\n\u001b[0;32m---> 15\u001b[0;31m \u001b[0mplt\u001b[0m\u001b[0;34m.\u001b[0m\u001b[0mset_title\u001b[0m\u001b[0;34m(\u001b[0m\u001b[0;34m\"Proportion of Galaxy Types in Image Set\"\u001b[0m\u001b[0;34m)\u001b[0m\u001b[0;34m\u001b[0m\u001b[0;34m\u001b[0m\u001b[0m\n\u001b[0m\u001b[1;32m     16\u001b[0m \u001b[0mplt\u001b[0m\u001b[0;34m.\u001b[0m\u001b[0mshow\u001b[0m\u001b[0;34m(\u001b[0m\u001b[0;34m)\u001b[0m\u001b[0;34m\u001b[0m\u001b[0;34m\u001b[0m\u001b[0m\n",
      "\u001b[0;31mAttributeError\u001b[0m: module 'matplotlib.pyplot' has no attribute 'set_title'"
     ]
    },
    {
     "data": {
      "image/png": "[encoded data removed]",
      "text/plain": [
       "<Figure size 432x288 with 1 Axes>"
      ]
     },
     "metadata": {},
     "output_type": "display_data"
    }
   ],
   "source": [
    "#Make pie chart\n",
    "colors = ['#ff9999','#66b3ff','#99ff99','#ffcc99']\n",
    "\n",
    "# Plot\n",
    "#plt.pie(count, labels=labels, colors=colors,\n",
    "#autopct='%1.1f%%', shadow=True, startangle = 90)\n",
    "\n",
    "p, tx, autotexts = plt.pie(count, labels=labels, colors=colors,\n",
    "        autopct=\"\", shadow=True, startangle = 90)\n",
    "\n",
    "for i, a in enumerate(autotexts):\n",
    "    a.set_text(\"{}\".format(str(count[i]) + '\\n' + str(round(count[i]/sum(count) * 100, 2)) + '%'))\n",
    "\n",
    "plt.axis('equal')\n",
    "plt.set_title(\"Proportion of Galaxy Types in Image Set\")\n",
    "plt.show()"
   ]
  }
 ],
 "metadata": {
  "kernelspec": {
   "display_name": "Python 3",
   "language": "python",
   "name": "python3"
  },
  "language_info": {
   "codemirror_mode": {
    "name": "ipython",
    "version": 3
   },
   "file_extension": ".py",
   "mimetype": "text/x-python",
   "name": "python",
   "nbconvert_exporter": "python",
   "pygments_lexer": "ipython3",
   "version": "3.6.8"
  }
 },
 "nbformat": 4,
 "nbformat_minor": 2
}
