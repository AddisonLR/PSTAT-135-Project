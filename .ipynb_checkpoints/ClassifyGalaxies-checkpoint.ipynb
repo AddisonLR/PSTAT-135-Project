{
 "cells": [
  {
   "cell_type": "markdown",
   "metadata": {},
   "source": [
    "# Classify the Galaxies"
   ]
  },
  {
   "cell_type": "markdown",
   "metadata": {},
   "source": [
    "## Set Up"
   ]
  },
  {
   "cell_type": "code",
   "execution_count": 12,
   "metadata": {},
   "outputs": [
    {
     "name": "stderr",
     "output_type": "stream",
     "text": [
      "Using TensorFlow backend.\n"
     ]
    }
   ],
   "source": [
    "#import all necessary libraries\n",
    "import os\n",
    "\n",
    "from pyspark.sql.functions import lit\n",
    "from pyspark.sql import SQLContext\n",
    "from pyspark.sql import SparkSession\n",
    "from pyspark.sql import functions as F\n",
    "\n",
    "import IPython.display as dp\n",
    "from pyspark.ml.image import ImageSchema\n",
    "from sparkdl.image import imageIO\n",
    "\n",
    "spark = SparkSession \\\n",
    "    .builder \\\n",
    "    .master(\"local\") \\\n",
    "    .appName(\"review_and_category_analytics\") \\\n",
    "    .config(\"spark.executor.memory\", '8g') \\\n",
    "    .config('spark.executor.cores', '4') \\\n",
    "    .config('spark.cores.max', '4') \\\n",
    "    .config(\"spark.driver.memory\",'8g') \\\n",
    "    .getOrCreate()\n",
    "\n",
    "sc = spark.sparkContext\n",
    "\n",
    "sqlCtx = SQLContext(sc)"
   ]
  },
  {
   "cell_type": "code",
   "execution_count": 2,
   "metadata": {},
   "outputs": [],
   "source": [
    "#declare image directory\n",
    "img_dir = \"data/images_training_rev1/\""
   ]
  },
  {
   "cell_type": "code",
   "execution_count": 3,
   "metadata": {},
   "outputs": [
    {
     "name": "stdout",
     "output_type": "stream",
     "text": [
      "+--------+------+----+------+\n",
      "|GalaxyID|Smooth|Edge|Spiral|\n",
      "+--------+------+----+------+\n",
      "|  100008|     0|   0|     1|\n",
      "|  100023|     0|   0|     1|\n",
      "|  100053|     1|   0|     0|\n",
      "|  100078|     1|   0|     0|\n",
      "|  100090|     1|   0|     0|\n",
      "|  100122|     1|   0|     0|\n",
      "|  100123|     0|   0|     0|\n",
      "|  100128|     1|   0|     0|\n",
      "|  100134|     0|   0|     1|\n",
      "|  100143|     0|   1|     0|\n",
      "+--------+------+----+------+\n",
      "only showing top 10 rows\n",
      "\n"
     ]
    }
   ],
   "source": [
    "#Load classification table\n",
    "class_df = sqlCtx.read.\\\n",
    "    format(\"csv\").\\\n",
    "    option(\"header\", \"true\").\\\n",
    "    option(\"inferSchema\", \"true\").\\\n",
    "    load(\"data/galaxyClasses.csv\")\n",
    "\n",
    "class_df.show(10)"
   ]
  },
  {
   "cell_type": "code",
   "execution_count": 4,
   "metadata": {},
   "outputs": [
    {
     "name": "stdout",
     "output_type": "stream",
     "text": [
      "+--------+-----+\n",
      "|galaxyID|class|\n",
      "+--------+-----+\n",
      "|  100008|    3|\n",
      "|  100023|    3|\n",
      "|  100053|    1|\n",
      "|  100078|    1|\n",
      "|  100090|    1|\n",
      "|  100122|    1|\n",
      "|  100123|    0|\n",
      "|  100128|    1|\n",
      "|  100134|    3|\n",
      "|  100143|    2|\n",
      "+--------+-----+\n",
      "only showing top 10 rows\n",
      "\n"
     ]
    }
   ],
   "source": [
    "#merge classes columns {0: nothing, 1:smooth, 2:edge, 3:spiral}\n",
    "classes = class_df.withColumn(\"Class\", \n",
    "        F.when((F.col(\"smooth\") == 1), 1)\n",
    "        .when((F.col(\"edge\") == 1), 2)\n",
    "        .when((F.col(\"spiral\") == 1), 3).otherwise(0)\n",
    "        ).select(\"galaxyID\", \"class\")\n",
    "\n",
    "classes.show(10)"
   ]
  },
  {
   "cell_type": "markdown",
   "metadata": {},
   "source": [
    "### Create DataFrame of Images"
   ]
  },
  {
   "cell_type": "code",
   "execution_count": null,
   "metadata": {},
   "outputs": [],
   "source": [
    "fs = os.listdir(\"data/images_training_rev1/\") #get list of image file names\n",
    "fs.sort() #sort by file name\n",
    "\n",
    "images = [] #create blank list which will store image objects\n",
    "\n",
    "for ea in fs: #for each image in the list of images\n",
    "    #add images object to the list of images\n",
    "    images.append(dp.Image(filename=\"data/images_training_rev1/\" + ea, format=\"png\"))"
   ]
  },
  {
   "cell_type": "code",
   "execution_count": null,
   "metadata": {},
   "outputs": [],
   "source": [
    "#Show first 5 images\n",
    "for ea in range(5):\n",
    "    dp.display_png(images[ea])"
   ]
  },
  {
   "cell_type": "markdown",
   "metadata": {},
   "source": [
    "#### IMPORTANT!!!! Change directory to full subset when not testing"
   ]
  },
  {
   "cell_type": "code",
   "execution_count": 9,
   "metadata": {},
   "outputs": [],
   "source": [
    "#create images dataframe\n",
    "\n",
    "#image_df = ImageSchema.readImages(\"data/images_training_rev1/\")\n",
    "\n",
    "image_fd = ImageSchema.readImages(\"data/subset_images/\")"
   ]
  },
  {
   "cell_type": "code",
   "execution_count": 10,
   "metadata": {},
   "outputs": [
    {
     "name": "stdout",
     "output_type": "stream",
     "text": [
      "+--------------------+\n",
      "|               image|\n",
      "+--------------------+\n",
      "|[file:/home/jovya...|\n",
      "|[file:/home/jovya...|\n",
      "|[file:/home/jovya...|\n",
      "|[file:/home/jovya...|\n",
      "|[file:/home/jovya...|\n",
      "+--------------------+\n",
      "only showing top 5 rows\n",
      "\n"
     ]
    }
   ],
   "source": [
    "image_df.show(5)"
   ]
  },
  {
   "cell_type": "code",
   "execution_count": null,
   "metadata": {},
   "outputs": [],
   "source": []
  }
 ],
 "metadata": {
  "kernelspec": {
   "display_name": "Python 3",
   "language": "python",
   "name": "python3"
  },
  "language_info": {
   "codemirror_mode": {
    "name": "ipython",
    "version": 3
   },
   "file_extension": ".py",
   "mimetype": "text/x-python",
   "name": "python",
   "nbconvert_exporter": "python",
   "pygments_lexer": "ipython3",
   "version": "3.6.8"
  }
 },
 "nbformat": 4,
 "nbformat_minor": 2
}
