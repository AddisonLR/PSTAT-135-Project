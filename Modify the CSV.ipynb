{
 "cells": [
  {
   "cell_type": "markdown",
   "metadata": {},
   "source": [
    "## Set Up"
   ]
  },
  {
   "cell_type": "code",
   "execution_count": 1,
   "metadata": {},
   "outputs": [],
   "source": [
    "from pyspark import SparkContext\n",
    "from pyspark.sql import SQLContext\n",
    "from pyspark.sql import Row\n",
    "from pyspark.sql import SparkSession\n",
    "from pyspark.sql import functions as F\n",
    "\n",
    "spark = SparkSession \\\n",
    "    .builder \\\n",
    "    .master(\"local\") \\\n",
    "    .appName(\"review_and_category_analytics\") \\\n",
    "    .config(\"spark.executor.memory\", '8g') \\\n",
    "    .config('spark.executor.cores', '4') \\\n",
    "    .config('spark.cores.max', '4') \\\n",
    "    .config(\"spark.driver.memory\",'8g') \\\n",
    "    .getOrCreate()\n",
    "\n",
    "sc = spark.sparkContext\n",
    "\n",
    "sqlCtx = SQLContext(sc)"
   ]
  },
  {
   "cell_type": "code",
   "execution_count": 2,
   "metadata": {},
   "outputs": [],
   "source": [
    "galaxy_df = sqlCtx.read.\\\n",
    "    format(\"csv\").\\\n",
    "    option(\"header\", \"true\").\\\n",
    "    option(\"inferSchema\", \"true\").\\\n",
    "    load(\"data/training_solutions_rev1.csv\")"
   ]
  },
  {
   "cell_type": "markdown",
   "metadata": {},
   "source": [
    "## Summarize the Data"
   ]
  },
  {
   "cell_type": "markdown",
   "metadata": {},
   "source": [
    "#### Structure of the Data"
   ]
  },
  {
   "cell_type": "code",
   "execution_count": 3,
   "metadata": {
    "scrolled": true
   },
   "outputs": [
    {
     "name": "stdout",
     "output_type": "stream",
     "text": [
      "root\n",
      " |-- GalaxyID: integer (nullable = true)\n",
      " |-- Class1.1: double (nullable = true)\n",
      " |-- Class1.2: double (nullable = true)\n",
      " |-- Class1.3: double (nullable = true)\n",
      " |-- Class2.1: double (nullable = true)\n",
      " |-- Class2.2: double (nullable = true)\n",
      " |-- Class3.1: double (nullable = true)\n",
      " |-- Class3.2: double (nullable = true)\n",
      " |-- Class4.1: double (nullable = true)\n",
      " |-- Class4.2: double (nullable = true)\n",
      " |-- Class5.1: double (nullable = true)\n",
      " |-- Class5.2: double (nullable = true)\n",
      " |-- Class5.3: double (nullable = true)\n",
      " |-- Class5.4: double (nullable = true)\n",
      " |-- Class6.1: double (nullable = true)\n",
      " |-- Class6.2: double (nullable = true)\n",
      " |-- Class7.1: double (nullable = true)\n",
      " |-- Class7.2: double (nullable = true)\n",
      " |-- Class7.3: double (nullable = true)\n",
      " |-- Class8.1: double (nullable = true)\n",
      " |-- Class8.2: double (nullable = true)\n",
      " |-- Class8.3: double (nullable = true)\n",
      " |-- Class8.4: double (nullable = true)\n",
      " |-- Class8.5: double (nullable = true)\n",
      " |-- Class8.6: double (nullable = true)\n",
      " |-- Class8.7: double (nullable = true)\n",
      " |-- Class9.1: double (nullable = true)\n",
      " |-- Class9.2: double (nullable = true)\n",
      " |-- Class9.3: double (nullable = true)\n",
      " |-- Class10.1: double (nullable = true)\n",
      " |-- Class10.2: double (nullable = true)\n",
      " |-- Class10.3: double (nullable = true)\n",
      " |-- Class11.1: double (nullable = true)\n",
      " |-- Class11.2: double (nullable = true)\n",
      " |-- Class11.3: double (nullable = true)\n",
      " |-- Class11.4: double (nullable = true)\n",
      " |-- Class11.5: double (nullable = true)\n",
      " |-- Class11.6: double (nullable = true)\n",
      "\n"
     ]
    }
   ],
   "source": [
    "galaxy_df.printSchema()"
   ]
  },
  {
   "cell_type": "markdown",
   "metadata": {},
   "source": [
    "#### First 5 Rows of the Data"
   ]
  },
  {
   "cell_type": "code",
   "execution_count": 4,
   "metadata": {
    "scrolled": true
   },
   "outputs": [
    {
     "name": "stdout",
     "output_type": "stream",
     "text": [
      "+--------+--------+--------+--------+-----------+-----------+-----------+-----------+-----------+-----------+--------+-----------+-----------+-----------+--------+--------+-----------+-----------+-----------+--------+---------+-----------+---------+-----------+---------+--------+-----------+--------+-----------+-----------+-----------+-----------+-----------+-----------+---------+---------+---------+-----------+\n",
      "|GalaxyID|Class1.1|Class1.2|Class1.3|   Class2.1|   Class2.2|   Class3.1|   Class3.2|   Class4.1|   Class4.2|Class5.1|   Class5.2|   Class5.3|   Class5.4|Class6.1|Class6.2|   Class7.1|   Class7.2|   Class7.3|Class8.1| Class8.2|   Class8.3| Class8.4|   Class8.5| Class8.6|Class8.7|   Class9.1|Class9.2|   Class9.3|  Class10.1|  Class10.2|  Class10.3|  Class11.1|  Class11.2|Class11.3|Class11.4|Class11.5|  Class11.6|\n",
      "+--------+--------+--------+--------+-----------+-----------+-----------+-----------+-----------+-----------+--------+-----------+-----------+-----------+--------+--------+-----------+-----------+-----------+--------+---------+-----------+---------+-----------+---------+--------+-----------+--------+-----------+-----------+-----------+-----------+-----------+-----------+---------+---------+---------+-----------+\n",
      "|  100008|0.383147|0.616853|     0.0|        0.0|   0.616853|0.038452149|0.578400851|0.418397819|0.198455181|     0.0|0.104752126|0.512100874|        0.0|0.054453|0.945547|0.201462524|0.181684476|        0.0|     0.0|0.0272265|        0.0|0.0272265|        0.0|      0.0|     0.0|        0.0|     0.0|        0.0|0.279952491|0.138445328|        0.0|        0.0|0.092885571|      0.0|      0.0|      0.0|0.325512248|\n",
      "|  100023|0.327001|0.663777|0.009222|0.031178269|0.632598731|0.467369636|0.165229095|0.591327989|0.041270741|     0.0|0.236781072|0.160940708| 0.23487695|0.189149|0.810851|        0.0|0.135081824|0.191919176|     0.0|      0.0|0.140353476|      0.0|0.048795524|      0.0|     0.0|0.012414127|     0.0|0.018764143|        0.0|0.131377705|0.459950285|        0.0|0.591327989|      0.0|      0.0|      0.0|        0.0|\n",
      "|  100053|0.765717|0.177352|0.056931|        0.0|   0.177352|        0.0|   0.177352|        0.0|   0.177352|     0.0| 0.11778975| 0.05956225|        0.0|     0.0|     1.0|        0.0| 0.74186415| 0.02385285|     0.0|      0.0|        0.0|      0.0|        0.0|      0.0|     0.0|        0.0|     0.0|        0.0|        0.0|        0.0|        0.0|        0.0|        0.0|      0.0|      0.0|      0.0|        0.0|\n",
      "|  100078|0.693377|0.238564|0.068059|        0.0|   0.238564|0.109493481|0.129070519|0.189098232|0.049465768|     0.0|        0.0|0.113284024|0.125279976|0.320398|0.679602|0.408599439|0.284777561|        0.0|     0.0|      0.0|  0.0961194|0.0961194|        0.0|0.1281592|     0.0|        0.0|     0.0|        0.0|0.094549116|        0.0|0.094549116|0.189098232|        0.0|      0.0|      0.0|      0.0|        0.0|\n",
      "|  100090|0.933839|     0.0|0.066161|        0.0|        0.0|        0.0|        0.0|        0.0|        0.0|     0.0|        0.0|        0.0|        0.0|0.029383|0.970617|0.494587282|0.439251718|        0.0|     0.0|      0.0|        0.0|      0.0|        0.0| 0.029383|     0.0|        0.0|     0.0|        0.0|        0.0|        0.0|        0.0|        0.0|        0.0|      0.0|      0.0|      0.0|        0.0|\n",
      "+--------+--------+--------+--------+-----------+-----------+-----------+-----------+-----------+-----------+--------+-----------+-----------+-----------+--------+--------+-----------+-----------+-----------+--------+---------+-----------+---------+-----------+---------+--------+-----------+--------+-----------+-----------+-----------+-----------+-----------+-----------+---------+---------+---------+-----------+\n",
      "only showing top 5 rows\n",
      "\n"
     ]
    }
   ],
   "source": [
    "galaxy_df.show(5)"
   ]
  },
  {
   "cell_type": "markdown",
   "metadata": {},
   "source": [
    "#### Breakdown of Objects in the Data"
   ]
  },
  {
   "cell_type": "code",
   "execution_count": 5,
   "metadata": {
    "scrolled": false
   },
   "outputs": [
    {
     "name": "stdout",
     "output_type": "stream",
     "text": [
      "There are 61578 objects.\n",
      "There are 25868 smooth galaxies.\n",
      "There are 6628 edge-on galaxies.\n",
      "There are 15074 spiral galaxies.\n",
      "There are 14008 other objects.\n"
     ]
    }
   ],
   "source": [
    "galaxy_df.createOrReplaceTempView(\"df\") #allow us to use SQL statements\n",
    "\n",
    "#How many objects are there\n",
    "numTotal = galaxy_df.count()\n",
    "print(\"There are\", numTotal, \"objects.\")\n",
    "\n",
    "#How many smooth galaxies\n",
    "numSmooth = sqlCtx.sql(\"SELECT * FROM df WHERE `Class1.1` >= 0.5\").count()\n",
    "print(\"There are\", numSmooth, \"smooth galaxies.\")\n",
    "\n",
    "#How many edge-on glaxies\n",
    "numEdge = sqlCtx.sql(\"SELECT * FROM df WHERE `Class1.2` >= 0.5 \\\n",
    "                                        AND `Class2.1` >= `Class2.2`\").count()\n",
    "print(\"There are\", numEdge, \"edge-on galaxies.\")\n",
    "\n",
    "#How many spiral glaxies\n",
    "numSpiral = sqlCtx.sql(\"SELECT * FROM df WHERE `Class1.2` >= 0.5 AND \\\n",
    "                                        `Class2.1` < `Class2.2` \\\n",
    "                                        AND `Class4.1` >= `Class4.2`\").count()\n",
    "print(\"There are\", numSpiral, \"spiral galaxies.\")\n",
    "\n",
    "numOther = numTotal-numSmooth-numEdge-numSpiral\n",
    "print(\"There are\", numOther, \"other objects.\")"
   ]
  },
  {
   "cell_type": "markdown",
   "metadata": {},
   "source": [
    "## Create New DataFrame"
   ]
  },
  {
   "cell_type": "code",
   "execution_count": 6,
   "metadata": {},
   "outputs": [
    {
     "name": "stdout",
     "output_type": "stream",
     "text": [
      "+------+----+------+\n",
      "|Smooth|Edge|Spiral|\n",
      "+------+----+------+\n",
      "|     0|   0|     1|\n",
      "|     0|   0|     1|\n",
      "|     1|   0|     0|\n",
      "|     1|   0|     0|\n",
      "|     1|   0|     0|\n",
      "|     1|   0|     0|\n",
      "|     0|   0|     0|\n",
      "|     1|   0|     0|\n",
      "|     0|   0|     1|\n",
      "|     0|   1|     0|\n",
      "|     0|   0|     0|\n",
      "|     0|   0|     0|\n",
      "|     0|   0|     0|\n",
      "|     0|   0|     0|\n",
      "|     0|   0|     1|\n",
      "|     0|   0|     0|\n",
      "|     0|   1|     0|\n",
      "|     1|   0|     0|\n",
      "|     1|   0|     0|\n",
      "|     0|   1|     0|\n",
      "+------+----+------+\n",
      "only showing top 20 rows\n",
      "\n"
     ]
    }
   ],
   "source": [
    "gal_class = galaxy_df #make a copy of the full dataset\n",
    "\n",
    "#Classify as Smooth\n",
    "gal_class = gal_class.withColumn(\n",
    "        \"Smooth\", \n",
    "        F.when(F.col(\"`Class1.1`\") >= 0.5, 1).otherwise(0)\n",
    ")\n",
    "\n",
    "#Classify as Edge\n",
    "gal_class = gal_class.withColumn(\n",
    "        \"Edge\", \n",
    "        F.when((F.col(\"`Class1.2`\") >= 0.5) & \n",
    "               (F.col(\"`Class2.1`\") >= F.col(\"`Class2.2`\")), 1).otherwise(0)\n",
    ")\n",
    "\n",
    "#Classify as Spiral\n",
    "gal_class = gal_class.withColumn(\n",
    "        \"Spiral\", \n",
    "        F.when((F.col(\"`Class1.2`\") >= 0.5) & \n",
    "               (F.col(\"`Class2.1`\") < F.col(\"`Class2.2`\")) &\n",
    "               (F.col(\"`Class4.1`\") >= F.col(\"`Class4.2`\")), 1).otherwise(0)\n",
    ")\n",
    "\n",
    "gal_class.select(\"Smooth\", \"Edge\", \"Spiral\").show(20)"
   ]
  },
  {
   "cell_type": "code",
   "execution_count": 7,
   "metadata": {},
   "outputs": [
    {
     "name": "stdout",
     "output_type": "stream",
     "text": [
      "+--------+------+----+------+\n",
      "|GalaxyID|Smooth|Edge|Spiral|\n",
      "+--------+------+----+------+\n",
      "|  239928|     1|   1|     0|\n",
      "|  874101|     1|   1|     0|\n",
      "+--------+------+----+------+\n",
      "\n"
     ]
    }
   ],
   "source": [
    "#Check for galaxies which were doubly classified.\n",
    "gal_class.createOrReplaceTempView(\"df2\")\n",
    "\n",
    "sqlCtx.sql(\"SELECT GalaxyID, Smooth, Edge, Spiral FROM df2 WHERE smooth+edge+spiral > 1\").show() #Galaxies 239928 and 874101"
   ]
  },
  {
   "cell_type": "markdown",
   "metadata": {},
   "source": [
    "### Remove Unecessary Information"
   ]
  },
  {
   "cell_type": "code",
   "execution_count": 8,
   "metadata": {},
   "outputs": [
    {
     "name": "stdout",
     "output_type": "stream",
     "text": [
      "+--------+------+----+------+\n",
      "|GalaxyID|Smooth|Edge|Spiral|\n",
      "+--------+------+----+------+\n",
      "|  100008|     0|   0|     1|\n",
      "|  100023|     0|   0|     1|\n",
      "|  100053|     1|   0|     0|\n",
      "|  100078|     1|   0|     0|\n",
      "|  100090|     1|   0|     0|\n",
      "+--------+------+----+------+\n",
      "only showing top 5 rows\n",
      "\n"
     ]
    }
   ],
   "source": [
    "final_df = sqlCtx.sql(\"SELECT GalaxyID, Smooth, Edge, Spiral FROM df2 WHERE GalaxyID != 239928 AND GalaxyID != 874101\")\n",
    "final_df.show(5)"
   ]
  },
  {
   "cell_type": "code",
   "execution_count": 9,
   "metadata": {},
   "outputs": [],
   "source": [
    "##Create a single column of classifications\n",
    "##This code was not run but is saved here in case it will become useful.\n",
    "\n",
    "##merge classes columns {0: nothing, 1:smooth, 2:edge, 3:spiral}\n",
    "#classes = class_df.withColumn(\"Class\", \n",
    "#        F.when((F.col(\"smooth\") == 1), 1)\n",
    "#        .when((F.col(\"edge\") == 1), 2)\n",
    "#        .when((F.col(\"spiral\") == 1), 3).otherwise(0)\n",
    "#        ).select(\"galaxyID\", \"class\")\n",
    "#\n",
    "#classes.show(10)"
   ]
  },
  {
   "cell_type": "markdown",
   "metadata": {},
   "source": [
    "## Save Classifications Table as New CSV"
   ]
  },
  {
   "cell_type": "code",
   "execution_count": 10,
   "metadata": {},
   "outputs": [],
   "source": [
    "#final_df.write.csv('galaxyClassifications.csv', header=True)\n",
    "#This code is commented out because the csv doesn't need to be regenerated."
   ]
  },
  {
   "cell_type": "code",
   "execution_count": null,
   "metadata": {},
   "outputs": [],
   "source": []
  },
  {
   "cell_type": "code",
   "execution_count": null,
   "metadata": {},
   "outputs": [],
   "source": []
  }
 ],
 "metadata": {
  "kernelspec": {
   "display_name": "Python 3",
   "language": "python",
   "name": "python3"
  },
  "language_info": {
   "codemirror_mode": {
    "name": "ipython",
    "version": 3
   },
   "file_extension": ".py",
   "mimetype": "text/x-python",
   "name": "python",
   "nbconvert_exporter": "python",
   "pygments_lexer": "ipython3",
   "version": "3.6.8"
  }
 },
 "nbformat": 4,
 "nbformat_minor": 2
}
