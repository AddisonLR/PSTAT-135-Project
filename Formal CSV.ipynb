{
 "cells": [
  {
   "cell_type": "code",
   "execution_count": 1,
   "metadata": {},
   "outputs": [],
   "source": [
    "import os\n",
    "import pandas as pd\n",
    "\n",
    "# import pyspark modules\n",
    "from pyspark import SparkContext\n",
    "from pyspark.sql import SQLContext\n",
    "from pyspark.sql import Row\n",
    "from pyspark.sql.types import *       # for datatype conversion\n",
    "from pyspark.sql.functions import *   # for col() function\n",
    "from pyspark.mllib.linalg import DenseVector\n",
    "from pyspark.ml.feature import StandardScaler\n",
    "from pyspark.ml.regression import LinearRegression\n",
    "import pandas as pd\n",
    "\n",
    "sc = SparkContext.getOrCreate()\n",
    "sqlCtx = SQLContext(sc)"
   ]
  },
  {
   "cell_type": "code",
   "execution_count": 2,
   "metadata": {},
   "outputs": [],
   "source": [
    "import pyspark.sql.functions as F\n",
    "from pyspark.sql import SparkSession\n",
    "from pyspark.mllib.util import MLUtils\n",
    "from pyspark.mllib.linalg import Vectors\n",
    "from pyspark.ml.feature import VectorAssembler\n",
    "\n",
    "from pyspark.sql import SparkSession\n",
    "\n",
    "spark = SparkSession.builder \\\n",
    "        .master(\"local\") \\\n",
    "        .appName(\"mllib_classifier\") \\\n",
    "        .getOrCreate()\n",
    "\n",
    "sc = spark.sparkContext"
   ]
  },
  {
   "cell_type": "code",
   "execution_count": 3,
   "metadata": {},
   "outputs": [
    {
     "name": "stdout",
     "output_type": "stream",
     "text": [
      "root\n",
      " |-- GalaxyID: integer (nullable = true)\n",
      " |-- Class1.1: double (nullable = true)\n",
      " |-- Class1.2: double (nullable = true)\n",
      " |-- Class1.3: double (nullable = true)\n",
      " |-- Class2.1: double (nullable = true)\n",
      " |-- Class2.2: double (nullable = true)\n",
      " |-- Class3.1: double (nullable = true)\n",
      " |-- Class3.2: double (nullable = true)\n",
      " |-- Class4.1: double (nullable = true)\n",
      " |-- Class4.2: double (nullable = true)\n",
      " |-- Class5.1: double (nullable = true)\n",
      " |-- Class5.2: double (nullable = true)\n",
      " |-- Class5.3: double (nullable = true)\n",
      " |-- Class5.4: double (nullable = true)\n",
      " |-- Class6.1: double (nullable = true)\n",
      " |-- Class6.2: double (nullable = true)\n",
      " |-- Class7.1: double (nullable = true)\n",
      " |-- Class7.2: double (nullable = true)\n",
      " |-- Class7.3: double (nullable = true)\n",
      " |-- Class8.1: double (nullable = true)\n",
      " |-- Class8.2: double (nullable = true)\n",
      " |-- Class8.3: double (nullable = true)\n",
      " |-- Class8.4: double (nullable = true)\n",
      " |-- Class8.5: double (nullable = true)\n",
      " |-- Class8.6: double (nullable = true)\n",
      " |-- Class8.7: double (nullable = true)\n",
      " |-- Class9.1: double (nullable = true)\n",
      " |-- Class9.2: double (nullable = true)\n",
      " |-- Class9.3: double (nullable = true)\n",
      " |-- Class10.1: double (nullable = true)\n",
      " |-- Class10.2: double (nullable = true)\n",
      " |-- Class10.3: double (nullable = true)\n",
      " |-- Class11.1: double (nullable = true)\n",
      " |-- Class11.2: double (nullable = true)\n",
      " |-- Class11.3: double (nullable = true)\n",
      " |-- Class11.4: double (nullable = true)\n",
      " |-- Class11.5: double (nullable = true)\n",
      " |-- Class11.6: double (nullable = true)\n",
      "\n"
     ]
    }
   ],
   "source": [
    "path_to_data = os.path.join('data/training_solutions_rev1.csv')\n",
    "data = spark.read.csv(path_to_data, header=True, inferSchema=True)\n",
    "data.printSchema()"
   ]
  },
  {
   "cell_type": "code",
   "execution_count": 5,
   "metadata": {},
   "outputs": [
    {
     "ename": "TypeError",
     "evalue": "withColumn() missing 1 required positional argument: 'col'",
     "output_type": "error",
     "traceback": [
      "\u001b[0;31m---------------------------------------------------------------------------\u001b[0m",
      "\u001b[0;31mTypeError\u001b[0m                                 Traceback (most recent call last)",
      "\u001b[0;32m<ipython-input-5-07e70f5d5f2f>\u001b[0m in \u001b[0;36m<module>\u001b[0;34m\u001b[0m\n\u001b[0;32m----> 1\u001b[0;31m \u001b[0mdata2\u001b[0m \u001b[0;34m=\u001b[0m \u001b[0mdata\u001b[0m\u001b[0;34m.\u001b[0m\u001b[0mwithColumn\u001b[0m\u001b[0;34m(\u001b[0m\u001b[0;34m\"isElliptical\"\u001b[0m\u001b[0;34m,\u001b[0m \u001b[0;34m)\u001b[0m\u001b[0;34m\u001b[0m\u001b[0;34m\u001b[0m\u001b[0m\n\u001b[0m",
      "\u001b[0;31mTypeError\u001b[0m: withColumn() missing 1 required positional argument: 'col'"
     ]
    }
   ],
   "source": [
    "data2 = data.withColumn(\"isElliptical\", )"
   ]
  },
  {
   "cell_type": "code",
   "execution_count": null,
   "metadata": {},
   "outputs": [],
   "source": []
  }
 ],
 "metadata": {
  "kernelspec": {
   "display_name": "Python 3",
   "language": "python",
   "name": "python3"
  },
  "language_info": {
   "codemirror_mode": {
    "name": "ipython",
    "version": 3
   },
   "file_extension": ".py",
   "mimetype": "text/x-python",
   "name": "python",
   "nbconvert_exporter": "python",
   "pygments_lexer": "ipython3",
   "version": "3.6.8"
  }
 },
 "nbformat": 4,
 "nbformat_minor": 2
}
