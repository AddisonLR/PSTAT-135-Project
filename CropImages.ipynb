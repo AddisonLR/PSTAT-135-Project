{
 "cells": [
  {
   "cell_type": "markdown",
   "metadata": {},
   "source": [
    "# Crop Photos to 300x300 pixels"
   ]
  },
  {
   "cell_type": "code",
   "execution_count": 1,
   "metadata": {},
   "outputs": [],
   "source": [
    "import os\n",
    "from PIL import Image"
   ]
  },
  {
   "cell_type": "code",
   "execution_count": 2,
   "metadata": {},
   "outputs": [],
   "source": [
    "#save directory of all images\n",
    "img_dir = \"data/galaxy_images_classified/\"\n",
    "sub_dir = [\"smooth/\", \"spiral/\", \"edge/\", \"other/\"]"
   ]
  },
  {
   "cell_type": "code",
   "execution_count": 3,
   "metadata": {},
   "outputs": [],
   "source": [
    "imgs = os.listdir(img_dir + sub_dir[0])"
   ]
  },
  {
   "cell_type": "code",
   "execution_count": 4,
   "metadata": {},
   "outputs": [],
   "source": [
    "#set dimensions of desired crop\n",
    "dim = 300\n",
    "current_width, current_height = Image.open(img_dir + sub_dir[0] + imgs[0]).size\n",
    "margin = (current_width - dim)/2\n",
    "crop_window = (margin, margin, current_width - margin, current_height - margin)"
   ]
  },
  {
   "cell_type": "code",
   "execution_count": 5,
   "metadata": {},
   "outputs": [],
   "source": [
    "for gal_type in sub_dir: #loop through all four galaxy type folders\n",
    "    imgs = os.listdir(img_dir + gal_type) #get list of all images in that folder\n",
    "    for file in imgs: #for each of those images\n",
    "        img = Image.open(img_dir + gal_type + file) #open the image\n",
    "        img.crop(crop_window).save(img_dir + gal_type + file) #crop it"
   ]
  }
 ],
 "metadata": {
  "kernelspec": {
   "display_name": "Python 3",
   "language": "python",
   "name": "python3"
  },
  "language_info": {
   "codemirror_mode": {
    "name": "ipython",
    "version": 3
   },
   "file_extension": ".py",
   "mimetype": "text/x-python",
   "name": "python",
   "nbconvert_exporter": "python",
   "pygments_lexer": "ipython3",
   "version": "3.6.8"
  }
 },
 "nbformat": 4,
 "nbformat_minor": 2
}
